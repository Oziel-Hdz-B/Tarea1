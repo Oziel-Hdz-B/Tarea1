{
  "nbformat": 4,
  "nbformat_minor": 0,
  "metadata": {
    "colab": {
      "provenance": [],
      "include_colab_link": true
    },
    "kernelspec": {
      "name": "python3",
      "display_name": "Python 3"
    },
    "language_info": {
      "name": "python"
    }
  },
  "cells": [
    {
      "cell_type": "markdown",
      "metadata": {
        "id": "view-in-github",
        "colab_type": "text"
      },
      "source": [
        "<a href=\"https://colab.research.google.com/github/Oziel-Hdz-B/Tarea1/blob/main/Ej_2_4.ipynb\" target=\"_parent\"><img src=\"https://colab.research.google.com/assets/colab-badge.svg\" alt=\"Open In Colab\"/></a>"
      ]
    },
    {
      "cell_type": "markdown",
      "source": [
        "## **Ejercicio 2.4**\n",
        "\n",
        "> ALGORITMO DE THOMAS | Sustitución hacia adelante\n"
      ],
      "metadata": {
        "id": "vQyFMq7k1jJ-"
      }
    },
    {
      "cell_type": "code",
      "source": [
        "import numpy as np\n",
        "from numpy import linalg as LA\n",
        "from scipy.linalg import lu\n",
        "\n",
        "# Definimos el tamaño de la matriz\n",
        "n = 5\n",
        "\n",
        "# Creamos la diagonal principal\n",
        "DP = 2 * np.ones(n)\n",
        "diagonal_principal = np.diag(DP)\n",
        "\n",
        "# Creamos la diagonal superior\n",
        "DS = -np.ones(n - 1)\n",
        "diagonal_superior = np.diag(DS, k=1)\n",
        "\n",
        "# Creamos la diagonal inferior\n",
        "DI = -np.ones(n - 1)\n",
        "diagonal_inferior = np.diag(DI, k=-1)\n",
        "\n",
        "# Sumamos las tres diagonales para obtener la matriz tribanda\n",
        "matriz_tribanda = diagonal_principal + diagonal_superior + diagonal_inferior\n",
        "b = np.ones(n)\n",
        "\n",
        "# Hacemos la descomposición LU con pivoteo de la matriz matriz_tribanda\n",
        "P, L, U = lu(matriz_tribanda)\n",
        "\n",
        "# ---------------------------------------------------------------------------- #\n",
        "\n",
        "def ThomasAdelante(DP, DS, DI, b):\n",
        "    \"\"\"\n",
        "    Resuelve un sistema tridiagonal de ecuaciones lineales utilizando el algoritmo de Thomas.\n",
        "\n",
        "    Parámetros:\n",
        "    DP (numpy.ndarray): Diagonal principal de la matriz tridiagonal.\n",
        "    DS (numpy.ndarray): Diagonal superior de la matriz tridiagonal.\n",
        "    DI (numpy.ndarray): Diagonal inferior de la matriz tridiagonal.\n",
        "    b (numpy.ndarray): Vector de términos independientes.\n",
        "\n",
        "    Retorna:\n",
        "    numpy.ndarray: Solución del sistema de ecuaciones.\n",
        "    \"\"\"\n",
        "    n = len(DP)\n",
        "    x = np.zeros(n)\n",
        "\n",
        "    # Eliminación hacia atrás\n",
        "    for i in range(n - 1, 0, -1):\n",
        "        DP[i - 1] = DP[i - 1] - (DS[i - 1] / DP[i]) * DI[i - 1]\n",
        "\n",
        "    # Sustitución hacia adelante\n",
        "    x[0] = b[0] / DP[0]\n",
        "    for i in range(1, n):\n",
        "        x[i] = (b[i] - DI[i - 1] * x[i - 1]) / DP[i]\n",
        "\n",
        "    return x[::-1]\n",
        "\n",
        "# Mostramos ambos resultados para hacer la comparación\n",
        "print(\"Solución con ThomasAdelante:\", ThomasAdelante(DP, DS, DI, b))\n",
        "print(\"Solución con Numpy:\",LA.solve(U,b))"
      ],
      "metadata": {
        "colab": {
          "base_uri": "https://localhost:8080/"
        },
        "id": "gQMFOBOZ0A9K",
        "outputId": "ec8e6ddb-2206-4d98-dc40-8e718cd3fee6"
      },
      "execution_count": null,
      "outputs": [
        {
          "output_type": "stream",
          "name": "stdout",
          "text": [
            "Solución con ThomasAdelante: [1.45       1.9        1.85       1.46666667 0.83333333]\n",
            "Solución con Numpy: [1.45       1.9        1.85       1.46666667 0.83333333]\n"
          ]
        }
      ]
    },
    {
      "cell_type": "code",
      "source": [
        "import numpy as np\n",
        "from numpy import linalg as LA\n",
        "\n",
        "def ThomasAdelante(DP, DS, DI, b):\n",
        "    \"\"\"\n",
        "    Resuelve un sistema tridiagonal usando el método de Thomas (sustitución hacia adelante).\n",
        "\n",
        "    Parámetros:\n",
        "    -----------\n",
        "    DP : numpy.ndarray\n",
        "        Diagonal principal de la matriz.\n",
        "    DS : numpy.ndarray\n",
        "        Diagonal superior de la matriz.\n",
        "    DI : numpy.ndarray\n",
        "        Diagonal inferior de la matriz.\n",
        "    b : numpy.ndarray\n",
        "        Vector del lado derecho del sistema.\n",
        "\n",
        "    Retorna:\n",
        "    --------\n",
        "    numpy.ndarray\n",
        "        Vector solución del sistema.\n",
        "    \"\"\"\n",
        "    n = len(DP)\n",
        "    x = np.zeros(n)\n",
        "    # Eliminación hacia atrás\n",
        "    for i in range(n - 1, 0, -1):\n",
        "        DP[i - 1] = DP[i - 1] - (DS[i - 1] / DP[i]) * DI[i - 1]\n",
        "    # Sustitución hacia adelante\n",
        "    x[0] = b[0] / DP[0]\n",
        "    for i in range(1, n):\n",
        "        x[i] = (b[i] - DI[i - 1] * x[i - 1]) / DP[i]\n",
        "    return x\n",
        "\n",
        "# ---------------------------- EJEMPLO ------------------------------------- #\n",
        "\n",
        "# Definimos las diagonales a utilizar y el vector b\n",
        "DP = np.array([4, 4, 4, 4], dtype=float)\n",
        "DS = np.array([0, 0, 0], dtype=float)\n",
        "DI = np.array([-1, -1, -1], dtype=float)\n",
        "b = np.array([5, 5, 5, 5], dtype=float)\n",
        "\n",
        "# Resolvemos con el algoritmo de Thomas, usando sustitucion hacia adelante\n",
        "solucion = ThomasAdelante(DP.copy(), DS.copy(), DI.copy(), b.copy())\n",
        "print(\"Solución con Thomas_Adelante:\", solucion)\n",
        "\n",
        "# Construimos la matriz tridiagonal completa para poder hacer la comparación con el método de numpy\n",
        "n = len(DP)\n",
        "matriz = np.diag(DP) + np.diag(DS, k=1) + np.diag(DI, k=-1)\n",
        "\n",
        "# Obtenemos la solución con numpy\n",
        "solucion_numpy = LA.solve(matriz, b)\n",
        "print(\"Solución con numpy\", solucion_numpy)\n"
      ],
      "metadata": {
        "colab": {
          "base_uri": "https://localhost:8080/"
        },
        "id": "nvePNzGDE6KO",
        "outputId": "ee81d1b6-5017-4f06-8f77-d4dbc881d34e"
      },
      "execution_count": null,
      "outputs": [
        {
          "output_type": "stream",
          "name": "stdout",
          "text": [
            "Solución con Thomas_Adelante: [1.25       1.5625     1.640625   1.66015625]\n",
            "Solución con numpy [1.25       1.5625     1.640625   1.66015625]\n"
          ]
        }
      ]
    }
  ]
}