{
  "nbformat": 4,
  "nbformat_minor": 0,
  "metadata": {
    "colab": {
      "provenance": []
    },
    "kernelspec": {
      "name": "python3",
      "display_name": "Python 3"
    },
    "language_info": {
      "name": "python"
    }
  },
  "cells": [
    {
      "cell_type": "markdown",
      "source": [
        "## **1.1Programe la multiplicación de matrices por bloques y compare tiempos de ejecuci ón contra el programa realizado en clase. Ojo, el nuevo programa debe ser más rápido, escoja tama ños de 10 hasta 100.**"
      ],
      "metadata": {
        "id": "okJ_uEthR2Ga"
      }
    },
    {
      "cell_type": "code",
      "execution_count": 22,
      "metadata": {
        "id": "YbMIbGsORrxM"
      },
      "outputs": [],
      "source": [
        "import numpy as np\n",
        "import time as time"
      ]
    },
    {
      "cell_type": "code",
      "execution_count": 3,
      "metadata": {
        "id": "Fg4tfGP6kDAo"
      },
      "outputs": [],
      "source": [
        "def multmat(mat1, mat2):\n",
        "    \"\"\"\n",
        "    Realiza la multiplicación de dos matrices.\n",
        "\n",
        "    Parámetros:\n",
        "    -----------\n",
        "    mat1 : numpy.ndarray\n",
        "        Una matriz de tamaño (n, m), donde n es el número de filas y m es el número de columnas.\n",
        "    mat2 : numpy.ndarray\n",
        "        Una matriz de tamaño (m, p), donde m es el número de filas y p es el número de columnas.\n",
        "\n",
        "    Retorno:\n",
        "    --------\n",
        "    mat3 : numpy.ndarray\n",
        "        Una matriz de tamaño (n, p) que contiene el resultado de la multiplicación.\n",
        "\n",
        "    Ejemplo:\n",
        "    --------\n",
        "    >>> mat1 = np.array([[1, 2], [3, 4]])\n",
        "    >>> mat2 = np.array([[5, 6], [7, 8]])\n",
        "    >>> multmat(mat1, mat2)\n",
        "    array([[19., 22.],\n",
        "           [43., 50.]])\n",
        "    \"\"\"\n",
        "    mat3 = np.zeros((mat1.shape[0], mat2.shape[1]))  # Inicializa la matriz de resultado con ceros\n",
        "\n",
        "    # Itera sobre las filas de la primera matriz\n",
        "    for ren in range(mat1.shape[0]):\n",
        "        # Itera sobre las columnas de la segunda matriz\n",
        "        for col in range(mat2.shape[1]):\n",
        "            # Itera sobre los elementos comunes (columnas de mat1 y filas de mat2)\n",
        "            for aux in range(mat2.shape[0]):\n",
        "                mat3[ren, col] += mat1[ren, aux] * mat2[aux, col]  # Multiplica y acumula el resultado\n",
        "\n",
        "    return mat3  # Retorna la matriz resultante"
      ]
    },
    {
      "cell_type": "code",
      "source": [
        "n=100\n",
        "\n",
        "#declaramos los arreglos a utiliazr\n",
        "a=n*[n*[2]]\n",
        "b=n*[n*[4]]\n",
        "\n",
        "#pasamos a arreglos de numpy\n",
        "A=np.array(a)\n",
        "B=np.array(b)"
      ],
      "metadata": {
        "id": "_VKB0WD7nD9K"
      },
      "execution_count": 4,
      "outputs": []
    },
    {
      "cell_type": "code",
      "source": [
        "\"\"\"\n",
        "Sola mente para visualizar como son A y B\n",
        "\"\"\"\n",
        "print(A,'\\n',B)"
      ],
      "metadata": {
        "colab": {
          "base_uri": "https://localhost:8080/"
        },
        "id": "ceG2u0--SKJ3",
        "outputId": "aae888c8-fbe6-44fe-e47e-f8c1339eafbe"
      },
      "execution_count": 5,
      "outputs": [
        {
          "output_type": "stream",
          "name": "stdout",
          "text": [
            "[[2 2 2 ... 2 2 2]\n",
            " [2 2 2 ... 2 2 2]\n",
            " [2 2 2 ... 2 2 2]\n",
            " ...\n",
            " [2 2 2 ... 2 2 2]\n",
            " [2 2 2 ... 2 2 2]\n",
            " [2 2 2 ... 2 2 2]] \n",
            " [[4 4 4 ... 4 4 4]\n",
            " [4 4 4 ... 4 4 4]\n",
            " [4 4 4 ... 4 4 4]\n",
            " ...\n",
            " [4 4 4 ... 4 4 4]\n",
            " [4 4 4 ... 4 4 4]\n",
            " [4 4 4 ... 4 4 4]]\n"
          ]
        }
      ]
    },
    {
      "cell_type": "code",
      "source": [
        "\"\"\"\n",
        "Con ayuda de la biblioteca time se miden los tiempos de la función de nunpy para\n",
        "multiplicar matrices, así como el algoritmo que hicimos en clase\n",
        "\"\"\"\n",
        "\n",
        "inicio = time.time()\n",
        "A@B\n",
        "fin = time.time()\n",
        "print(fin - inicio)\n",
        "\n",
        "print(A@B)\n",
        "\n",
        "print(multmat(A,B))\n",
        "\n",
        "inicio = time.time()\n",
        "multmat(A,B)\n",
        "fin =time.time()\n",
        "print(fin-inicio)\n"
      ],
      "metadata": {
        "colab": {
          "base_uri": "https://localhost:8080/"
        },
        "id": "HQNwxX5ySMO0",
        "outputId": "c97ef49f-810e-4a8b-a131-0570579f2443"
      },
      "execution_count": 6,
      "outputs": [
        {
          "output_type": "stream",
          "name": "stdout",
          "text": [
            "0.002429485321044922\n",
            "[[800 800 800 ... 800 800 800]\n",
            " [800 800 800 ... 800 800 800]\n",
            " [800 800 800 ... 800 800 800]\n",
            " ...\n",
            " [800 800 800 ... 800 800 800]\n",
            " [800 800 800 ... 800 800 800]\n",
            " [800 800 800 ... 800 800 800]]\n",
            "[[800. 800. 800. ... 800. 800. 800.]\n",
            " [800. 800. 800. ... 800. 800. 800.]\n",
            " [800. 800. 800. ... 800. 800. 800.]\n",
            " ...\n",
            " [800. 800. 800. ... 800. 800. 800.]\n",
            " [800. 800. 800. ... 800. 800. 800.]\n",
            " [800. 800. 800. ... 800. 800. 800.]]\n",
            "1.2788190841674805\n"
          ]
        }
      ]
    },
    {
      "cell_type": "code",
      "source": [
        "\"\"\"\n",
        "Aquí defino un nuevo producto de matrices con dos ciclos for, en lugar de tres, de este\n",
        "modo busco evitar tantas operaciones a diferencia de la función hecha en clase\n",
        "\"\"\"\n",
        "\n",
        "def producto_mat_por_vec(A, B):\n",
        "  \"\"\"\n",
        "  Realiza el producto matricial de una matriz A por un vector B.\n",
        "\n",
        "  Parámetros:\n",
        "  -----------\n",
        "  A : numpy.ndarray\n",
        "      Una matriz de tamaño (m, n), donde m es el número de filas y n es el número de columnas.\n",
        "  B : numpy.ndarray\n",
        "      Un vector (o matriz de una sola columna) de tamaño (n, 1).\n",
        "\n",
        "  Retorno:\n",
        "  --------\n",
        "  C : numpy.ndarray\n",
        "    Una matriz de tamaño (m, 1) que contiene el resultado del producto matricial A × B.\n",
        "  np.NaN : float\n",
        "  Si las dimensiones de A y B no son compatibles para la multiplicación matricial.\n",
        "\n",
        "  Observaciones:\n",
        "  --------------\n",
        "  1. La función verifica que el número de columnas de A coincida con el número de filas de B.\n",
        "  2. La matriz resultado C se inicializa con ceros y tiene dimensiones (m, 1).\n",
        "  3. La multiplicación se realiza utilizando bucles anidados y vectorización.\n",
        "  4. La notación [i:j] en Python extrae elementos desde la posición i hasta la posición j-1.\n",
        "  \"\"\"\n",
        "  # Verificar que las dimensiones de las matrices sean compatibles\n",
        "  if A.shape[1] != B.shape[0]:\n",
        "    return np.NaN\n",
        "\n",
        "  # Obtener las dimensiones de las matrices\n",
        "  f_A, col_A = A.shape\n",
        "  f_B, col_B = B.shape\n",
        "\n",
        "  # Inicializar la matriz resultado con ceros\n",
        "  C = np.zeros((f_A, col_B))\n",
        "\n",
        "  # Realizar el producto matricial utilizando dos bucles y vectorización\n",
        "  for i in range(f_A):\n",
        "    for j in range(col_B):\n",
        "      C[i, j] = sum(A[i, :] * B[:, j])\n",
        "    \"\"\"\n",
        "    De este último bloque se utiliza una propiedad de índices propia de Python,\n",
        "    la notación [i:j] denota la extracción de índices desde la posición i\n",
        "    hasta la posición j-1, hay que tener cuidado que es *j-1*.\n",
        "    \"\"\"\n",
        "  return C"
      ],
      "metadata": {
        "id": "B3i7owjhSPZb"
      },
      "execution_count": 24,
      "outputs": []
    },
    {
      "cell_type": "code",
      "source": [
        "\n",
        "def multiply_matrices_por_bloques(A, B, tamaño):\n",
        "  \"\"\"\n",
        "    Realiza la multiplicación de dos matrices A y B utilizando un enfoque de bloques.\n",
        "\n",
        "    Parámetros:\n",
        "    -----------\n",
        "    A : numpy.ndarray\n",
        "        Una matriz de tamaño (m, n), donde m es el número de filas y n es el número de columnas.\n",
        "    B : numpy.ndarray\n",
        "        Una matriz de tamaño (p, q), donde p es el número de filas y q es el número de columnas.\n",
        "    tamaño : int\n",
        "        El tamaño de los bloques en los que se dividirán las matrices para la multiplicación.\n",
        "\n",
        "    Retorno:\n",
        "    --------\n",
        "    C : numpy.ndarray\n",
        "        Una matriz de tamaño (m, q) que contiene el resultado del producto matricial A × B.\n",
        "    np.NaN : float\n",
        "        Si las dimensiones de A y B no son compatibles para la multiplicación matricial.\n",
        "\n",
        "    Observaciones:\n",
        "    --------------\n",
        "    1. La función verifica que el número de columnas de A coincida con el número de filas de B.\n",
        "    2. La matriz resultado C se inicializa con ceros y tiene dimensiones (m, q).\n",
        "    3. La multiplicación se realiza dividiendo las matrices en bloques más pequeños.\n",
        "    4. La notación [i:j] en Python extrae elementos desde la posición i hasta la posición j-1.\n",
        "    5. La función utiliza la función producto_mat_por_vec para multiplicar los bloques.\n",
        "  \"\"\"\n",
        "  # Obtener las dimensiones de las matrices\n",
        "  m, n = A.shape\n",
        "  p, q = B.shape\n",
        "\n",
        "  # Verificar que las dimensiones sean compatibles para la multiplicación\n",
        "  if n != p:\n",
        "    return np.NaN\n",
        "\n",
        "  # Inicializar la matriz resultante C con ceros\n",
        "  C = np.zeros((m, q))\n",
        "\n",
        "  # Multiplicación por bloques\n",
        "  for i in range(0, m, tamaño):\n",
        "    for j in range(0, q, tamaño):\n",
        "      for k in range(0, n, tamaño):\n",
        "        #damos los saltos del tamañan especificado\n",
        "        # Definir los límites de los bloques\n",
        "        i_fin = min(i + tamaño, m)\n",
        "        j_fin = min(j + tamaño, q)\n",
        "        k_fin = min(k + tamaño, n)\n",
        "        \"\"\"\n",
        "        La idea del bloque anterior es tomar bloques de tamaño, si este supera en cierto\n",
        "        punto el tamaño de la matriz, por decir, que fuera de 7x7 y son bloque de 4 entonces\n",
        "        tomaría en lugar de un bloque de 4x4 sería de 3x3, para eso se definen donde\n",
        "        *termina* cada paso del ciclo.\n",
        "        Para así tomar los últimos bloques de 3x3 y no de 4x4 y evitar errores fuera de rango\n",
        "        Notese detalle importante, el k_end es el final del paso para la matriz resultante\n",
        "        del producto, en ese sentido nos interesa que no rebase el número que *conecta* por\n",
        "        criterio al producto de matrices, que es el num de columnas de A y renglones de B\n",
        "        En el resto de casos, para i,j nos interesa llevar bien y no tener fueras de rango\n",
        "        de las filas de A y de las columas de B\n",
        "        \"\"\"\n",
        "        A_block = A[i:i_fin, k:k_fin]\n",
        "        B_block = B[k:k_fin, j:j_fin]\n",
        "        C_block = C[i:i_fin, j:j_fin]\n",
        "\n",
        "        \"\"\"\n",
        "        De este último bloque se utiliza una propiedad de índices propia de Python,\n",
        "        la notación [i:j] denota la extracción de índices desde la posición i\n",
        "        hasta la posición j-1, hay que tener cuidado que es *j-1*.\n",
        "        Para el caso de las matrices se especifican primero el rango de filas\n",
        "        y luego el rango de las columnas\n",
        "        \"\"\"\n",
        "\n",
        "        # Multiplicar los bloques y sumar al bloque de C\n",
        "        C[i:i_fin, j:j_fin] = C_block + producto_mat_por_vec(A_block, B_block)\n",
        "\n",
        "  return C"
      ],
      "metadata": {
        "id": "dLolhW1aSQKI"
      },
      "execution_count": 19,
      "outputs": []
    },
    {
      "cell_type": "code",
      "source": [
        "inicio = time.time()\n",
        "multiply_matrices_por_bloques(A,B,14)\n",
        "fin = time.time()\n",
        "print(fin-inicio)\n",
        "print(multiply_matrices_por_bloques(A,B,9))"
      ],
      "metadata": {
        "colab": {
          "base_uri": "https://localhost:8080/"
        },
        "id": "b08tw6ukSUoX",
        "outputId": "d5730281-4ba9-4907-bf97-f2ffa07ccba0"
      },
      "execution_count": 23,
      "outputs": [
        {
          "output_type": "stream",
          "name": "stdout",
          "text": [
            "0.3341853618621826\n",
            "[[800. 800. 800. ... 800. 800. 800.]\n",
            " [800. 800. 800. ... 800. 800. 800.]\n",
            " [800. 800. 800. ... 800. 800. 800.]\n",
            " ...\n",
            " [800. 800. 800. ... 800. 800. 800.]\n",
            " [800. 800. 800. ... 800. 800. 800.]\n",
            " [800. 800. 800. ... 800. 800. 800.]]\n"
          ]
        }
      ]
    }
  ]
}