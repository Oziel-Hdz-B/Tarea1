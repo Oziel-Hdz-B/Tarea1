{
  "nbformat": 4,
  "nbformat_minor": 0,
  "metadata": {
    "colab": {
      "provenance": []
    },
    "kernelspec": {
      "name": "python3",
      "display_name": "Python 3"
    },
    "language_info": {
      "name": "python"
    }
  },
  "cells": [
    {
      "cell_type": "markdown",
      "source": [
        "\n",
        "\n",
        "---\n",
        "##**1.5 Haga un programa que realice la potencia de una matriz de tamaño 50×50. De preferencia utilice la multiplicación de matrices por bloques**\n"
      ],
      "metadata": {
        "id": "CueKycqmU4hm"
      }
    },
    {
      "cell_type": "code",
      "source": [
        "import numpy as np\n",
        "import time as time"
      ],
      "metadata": {
        "id": "lOYoQdWsVJsg"
      },
      "execution_count": 2,
      "outputs": []
    },
    {
      "cell_type": "code",
      "execution_count": 3,
      "metadata": {
        "id": "IraI2ilcU21Y"
      },
      "outputs": [],
      "source": [
        "n=150\n",
        "#declaramos los arreglos a utiliazr\n",
        "b=n*[n*[4]]\n",
        "\n",
        "#pasamos a arreglos de numpy\n",
        "B=np.array(b)"
      ]
    },
    {
      "cell_type": "code",
      "source": [
        "\"\"\"\n",
        "Aquí defino un nuevo producto de matrices con dos ciclos for, en lugar de tres, de este\n",
        "modo busco evitar tantas operaciones a diferencia de la función hecha en clase\n",
        "\"\"\"\n",
        "\n",
        "def producto_mat_por_vec(A, B):\n",
        "  \"\"\"\n",
        "  Realiza el producto matricial de una matriz A por un vector B.\n",
        "\n",
        "  Parámetros:\n",
        "  -----------\n",
        "  A : numpy.ndarray\n",
        "      Una matriz de tamaño (m, n), donde m es el número de filas y n es el número de columnas.\n",
        "  B : numpy.ndarray\n",
        "      Un vector (o matriz de una sola columna) de tamaño (n, 1).\n",
        "\n",
        "  Retorno:\n",
        "  --------\n",
        "  C : numpy.ndarray\n",
        "    Una matriz de tamaño (m, 1) que contiene el resultado del producto matricial A × B.\n",
        "  np.NaN : float\n",
        "  Si las dimensiones de A y B no son compatibles para la multiplicación matricial.\n",
        "\n",
        "  Observaciones:\n",
        "  --------------\n",
        "  1. La función verifica que el número de columnas de A coincida con el número de filas de B.\n",
        "  2. La matriz resultado C se inicializa con ceros y tiene dimensiones (m, 1).\n",
        "  3. La multiplicación se realiza utilizando bucles anidados y vectorización.\n",
        "  4. La notación [i:j] en Python extrae elementos desde la posición i hasta la posición j-1.\n",
        "  \"\"\"\n",
        "  # Verificar que las dimensiones de las matrices sean compatibles\n",
        "  if A.shape[1] != B.shape[0]:\n",
        "    return np.NaN\n",
        "\n",
        "  # Obtener las dimensiones de las matrices\n",
        "  f_A, col_A = A.shape\n",
        "  f_B, col_B = B.shape\n",
        "\n",
        "  # Inicializar la matriz resultado con ceros\n",
        "  C = np.zeros((f_A, col_B))\n",
        "\n",
        "  # Realizar el producto matricial utilizando dos bucles y vectorización\n",
        "  for i in range(f_A):\n",
        "    for j in range(col_B):\n",
        "      C[i, j] = np.sum(A[i, :] * B[:, j])\n",
        "    \"\"\"\n",
        "    De este último bloque se utiliza una propiedad de índices propia de Python,\n",
        "    la notación [i:j] denota la extracción de índices desde la posición i\n",
        "    hasta la posición j-1, hay que tener cuidado que es *j-1*.\n",
        "    \"\"\"\n",
        "  return C\n",
        "\n",
        "\n",
        "def multiply_matrices_por_bloques(A, B, tamaño):\n",
        "  \"\"\"\n",
        "    Realiza la multiplicación de dos matrices A y B utilizando un enfoque de bloques.\n",
        "\n",
        "    Parámetros:\n",
        "    -----------\n",
        "    A : numpy.ndarray\n",
        "        Una matriz de tamaño (m, n), donde m es el número de filas y n es el número de columnas.\n",
        "    B : numpy.ndarray\n",
        "        Una matriz de tamaño (p, q), donde p es el número de filas y q es el número de columnas.\n",
        "    tamaño : int\n",
        "        El tamaño de los bloques en los que se dividirán las matrices para la multiplicación.\n",
        "\n",
        "    Retorno:\n",
        "    --------\n",
        "    C : numpy.ndarray\n",
        "        Una matriz de tamaño (m, q) que contiene el resultado del producto matricial A × B.\n",
        "    np.NaN : float\n",
        "        Si las dimensiones de A y B no son compatibles para la multiplicación matricial.\n",
        "\n",
        "    Observaciones:\n",
        "    --------------\n",
        "    1. La función verifica que el número de columnas de A coincida con el número de filas de B.\n",
        "    2. La matriz resultado C se inicializa con ceros y tiene dimensiones (m, q).\n",
        "    3. La multiplicación se realiza dividiendo las matrices en bloques más pequeños.\n",
        "    4. La notación [i:j] en Python extrae elementos desde la posición i hasta la posición j-1.\n",
        "    5. La función utiliza la función producto_mat_por_vec para multiplicar los bloques.\n",
        "  \"\"\"\n",
        "  # Obtener las dimensiones de las matrices\n",
        "  m, n = A.shape\n",
        "  p, q = B.shape\n",
        "\n",
        "  # Verificar que las dimensiones sean compatibles para la multiplicación\n",
        "  if n != p:\n",
        "    return np.NaN\n",
        "\n",
        "  # Inicializar la matriz resultante C con ceros\n",
        "  C = np.zeros((m, q))\n",
        "\n",
        "  # Multiplicación por bloques\n",
        "  for i in range(0, m, tamaño):\n",
        "    for j in range(0, q, tamaño):\n",
        "      for k in range(0, n, tamaño):\n",
        "        # Definir los límites de los bloques\n",
        "        i_fin = min(i + tamaño, m)\n",
        "        j_fin = min(j + tamaño, q)\n",
        "        k_fin = min(k + tamaño, n)\n",
        "        \"\"\"\n",
        "        La idea del bloque anterior es tomar bloques de tamaño, si este supera en cierto\n",
        "        punto el tamaño de la matriz, por decir, que fuera de 7x7 y son bloque de 4 entonces\n",
        "        tomaría en lugar de un bloque de 4x4 sería de 3x3, para eso se definen donde\n",
        "        *termina* cada paso del ciclo.\n",
        "        Para así tomar los últimos bloques de 3x3 y no de 4x4 y evitar errores fuera de rango\n",
        "        Notese detalle importante, el k_end es el final del paso para la matriz resultante\n",
        "        del producto, en ese sentido nos interesa que no rebase el número que *conecta* por\n",
        "        criterio al producto de matrices, que es el num de columnas de A y renglones de B\n",
        "        En el resto de casos, para i,j nos interesa llevar bien y no tener fueras de rango\n",
        "        de las filas de A y de las columas de B\n",
        "        \"\"\"\n",
        "\n",
        "        # Extraer los bloques de A, B y C\n",
        "        A_block = A[i:i_fin, k:k_fin]\n",
        "        B_block = B[k:k_fin, j:j_fin]\n",
        "        C_block = C[i:i_fin, j:j_fin]\n",
        "\n",
        "        \"\"\"\n",
        "        De este último bloque se utiliza una propiedad de índices propia de Python,\n",
        "        la notación [i:j] denota la extracción de índices desde la posición i\n",
        "        hasta la posición j-1, hay que tener cuidado que es *j-1*.\n",
        "        Para el caso de las matrices se especifican primero el rango de filas\n",
        "        y luego el rango de las columnas\n",
        "        \"\"\"\n",
        "\n",
        "        # Multiplicar los bloques y sumar al bloque de C\n",
        "        C[i:i_fin, j:j_fin] = C_block + producto_mat_por_vec(A_block, B_block)\n",
        "\n",
        "  return C"
      ],
      "metadata": {
        "id": "Sw84ljWhVVXu"
      },
      "execution_count": 6,
      "outputs": []
    },
    {
      "cell_type": "code",
      "source": [
        "import numpy as np\n",
        "\n",
        "def matriz_potencia(A, potencia):\n",
        "  \"\"\"\n",
        "    Calcula la potencia de una matriz A elevándola a una potencia dada.\n",
        "\n",
        "    Parámetros:\n",
        "    -----------\n",
        "    A : numpy.ndarray\n",
        "        Una matriz cuadrada de tamaño (n, n), donde n es el número de filas y columnas.\n",
        "    potencia : int\n",
        "        El exponente al que se elevará la matriz A. Debe ser un entero no negativo.\n",
        "\n",
        "    Retorno:\n",
        "    --------\n",
        "    C : numpy.ndarray\n",
        "        Una matriz de tamaño (n, n) que contiene el resultado de elevar A a la potencia dada.\n",
        "\n",
        "    Observaciones:\n",
        "    --------------\n",
        "    1. La matriz resultado C se inicializa con ceros y tiene las mismas dimensiones que A.\n",
        "    2. La función utiliza la función multiply_matrices_por_bloques para realizar la multiplicación de matrices.\n",
        "    3. El tamaño del bloque utilizado en la multiplicación por bloques se fija en 9.\n",
        "    4. La función utiliza un bucle para multiplicar la matriz A por sí misma `potencia` veces.\n",
        "  \"\"\"\n",
        "  # Inicializar la matriz resultado con ceros\n",
        "  C = np.zeros_like(A)\n",
        "\n",
        "  # Calcular la potencia de la matriz\n",
        "  for i in range(potencia):\n",
        "    C = multiply_matrices_por_bloques(A, A, 9)\n",
        "\n",
        "  return C"
      ],
      "metadata": {
        "id": "lWZqY4LcVEYW"
      },
      "execution_count": 7,
      "outputs": []
    },
    {
      "cell_type": "code",
      "source": [
        "matriz_potencia(B,4)"
      ],
      "metadata": {
        "colab": {
          "base_uri": "https://localhost:8080/"
        },
        "id": "fujtubKPVGjv",
        "outputId": "b1136c80-9dcb-4ac2-e730-a83b9e6278d5"
      },
      "execution_count": 8,
      "outputs": [
        {
          "output_type": "execute_result",
          "data": {
            "text/plain": [
              "array([[2400., 2400., 2400., ..., 2400., 2400., 2400.],\n",
              "       [2400., 2400., 2400., ..., 2400., 2400., 2400.],\n",
              "       [2400., 2400., 2400., ..., 2400., 2400., 2400.],\n",
              "       ...,\n",
              "       [2400., 2400., 2400., ..., 2400., 2400., 2400.],\n",
              "       [2400., 2400., 2400., ..., 2400., 2400., 2400.],\n",
              "       [2400., 2400., 2400., ..., 2400., 2400., 2400.]])"
            ]
          },
          "metadata": {},
          "execution_count": 8
        }
      ]
    }
  ]
}