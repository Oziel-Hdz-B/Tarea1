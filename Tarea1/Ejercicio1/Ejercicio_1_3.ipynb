{
  "nbformat": 4,
  "nbformat_minor": 0,
  "metadata": {
    "colab": {
      "provenance": []
    },
    "kernelspec": {
      "name": "python3",
      "display_name": "Python 3"
    },
    "language_info": {
      "name": "python"
    }
  },
  "cells": [
    {
      "cell_type": "code",
      "execution_count": 1,
      "metadata": {
        "id": "bqmBDlQGTvXl"
      },
      "outputs": [],
      "source": [
        "import numpy as np\n",
        "import time as time"
      ]
    },
    {
      "cell_type": "markdown",
      "source": [
        "\n",
        "\n",
        "---\n",
        "##**1.3 Programa el producto punto de dos vectores en R^n, por bloques. Note que para que esto tenga relevancia computacional, la n debe ser mayor que 50.**\n"
      ],
      "metadata": {
        "id": "eyUs9cbvT3rG"
      }
    },
    {
      "cell_type": "code",
      "source": [
        "def producto_vectores_por_bloques(v1, v2, tamaño):\n",
        "  \"\"\"\n",
        "    Realiza el producto punto de dos vectores v1 y v2 utilizando un enfoque de bloques.\n",
        "\n",
        "    Parámetros:\n",
        "    -----------\n",
        "    v1 : numpy.ndarray o list\n",
        "        Un vector de longitud n.\n",
        "    v2 : numpy.ndarray o list\n",
        "        Un vector de longitud n. La longitud de v2 debe coincidir con la de v1.\n",
        "    tamaño : int\n",
        "        El tamaño de los bloques en los que se dividirán los vectores para el producto.\n",
        "\n",
        "    Retorno:\n",
        "    --------\n",
        "    res : float\n",
        "        El resultado del producto punto de los vectores v1 y v2.\n",
        "    np.NaN : float\n",
        "        Si los vectores v1 y v2 no tienen la misma longitud.\n",
        "\n",
        "    Observaciones:\n",
        "    --------------\n",
        "    1. La función verifica que los vectores v1 y v2 tengan la misma longitud.\n",
        "    2. El resultado del producto punto se inicializa en 0.\n",
        "    3. La función divide los vectores en bloques más pequeños de tamaño `tamaño`.\n",
        "    4. La notación [i:j] en Python extrae elementos desde la posición i hasta la posición j-1.\n",
        "    5. La función realiza el producto de los elementos correspondientes de cada bloque y suma los resultados parciales.\n",
        "  \"\"\"\n",
        "  # Verificar que los vectores tengan la misma longitud\n",
        "  if len(v1) != len(v2):\n",
        "    return np.NaN\n",
        "\n",
        "  # Longitud de los vectores\n",
        "  n = len(v1)\n",
        "\n",
        "  # Inicializar el resultado del producto\n",
        "  res = 0\n",
        "\n",
        "  # Realizar el producto por bloques\n",
        "  for i in range(0, n, tamaño):\n",
        "    # Definir los límites del bloque\n",
        "    fin = min(i + tamaño, n)\n",
        "    producto_parcial = ( v1[i:fin] * v2[i:fin] )\n",
        "\n",
        "    # Suma sobre el vector de productos\n",
        "    for j in range(len(producto_parcial)):\n",
        "      res += producto_parcial[j]\n",
        "\n",
        "  return res"
      ],
      "metadata": {
        "id": "a1sGaVdWT1dJ"
      },
      "execution_count": 2,
      "outputs": []
    },
    {
      "cell_type": "code",
      "source": [
        "n=150\n",
        "#declaramos los arreglos a utiliazr\n",
        "a=n*[n*[2]]\n",
        "b=n*[n*[4]]\n",
        "\n",
        "#pasamos a arreglos de numpy\n",
        "A=np.array(a)\n",
        "B=np.array(b)\n",
        "\n",
        "producto_vectores_por_bloques(A[0], b[0], 5)"
      ],
      "metadata": {
        "colab": {
          "base_uri": "https://localhost:8080/"
        },
        "id": "WfGFxnLWT8k4",
        "outputId": "97a9d998-b3f3-4123-f216-4f93bc6e019d"
      },
      "execution_count": 4,
      "outputs": [
        {
          "output_type": "execute_result",
          "data": {
            "text/plain": [
              "np.int64(1200)"
            ]
          },
          "metadata": {},
          "execution_count": 4
        }
      ]
    }
  ]
}