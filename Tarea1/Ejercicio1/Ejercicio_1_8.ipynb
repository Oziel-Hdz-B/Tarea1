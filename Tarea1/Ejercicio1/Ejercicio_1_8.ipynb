{
  "nbformat": 4,
  "nbformat_minor": 0,
  "metadata": {
    "colab": {
      "provenance": []
    },
    "kernelspec": {
      "name": "python3",
      "display_name": "Python 3"
    },
    "language_info": {
      "name": "python"
    }
  },
  "cells": [
    {
      "cell_type": "markdown",
      "source": [
        "# **1.8 Crear un programa que aplique una rotación de un vector tridimensional mediante una matriz de rotación**"
      ],
      "metadata": {
        "id": "2rGJSOlHArhR"
      }
    },
    {
      "cell_type": "code",
      "execution_count": null,
      "metadata": {
        "colab": {
          "base_uri": "https://localhost:8080/"
        },
        "id": "kehhLIO2AfRK",
        "outputId": "9c8d7575-8585-40ee-ec5f-a103d0a942ca"
      },
      "outputs": [
        {
          "output_type": "stream",
          "name": "stdout",
          "text": [
            "Introduce las coordenadas del vector (x y z): 1 2 3\n",
            "Introduce el ángulo de rotación en grados: 67\n",
            "Introduce el eje de rotación (x, y, z): y\n",
            "Vector rotado: (cos(67*pi/180) + 3*sin(67*pi/180), 2, -sin(67*pi/180) + 3*cos(67*pi/180))\n"
          ]
        }
      ],
      "source": [
        "import sympy as sp\n",
        "\n",
        "def rotacion_tridimensional(vector, angulo_grados, eje):\n",
        "\n",
        "    \"\"\"\n",
        "    Rota un vector tridimensional en un ángulo dado alrededor de un eje específico.\n",
        "\n",
        "    :param vector: Tupla o lista con las coordenadas del vector (x, y, z). Puede contener valores numéricos o expresiones simbólicas.\n",
        "    :param angulo_grados: Ángulo de rotación en grados. Puede ser un número o una expresión simbólica.\n",
        "    :param eje: Eje de rotación ('x', 'y' o 'z').\n",
        "    :return: Tupla (x', y', z') con las coordenadas del vector rotado, simplificadas si es posible.\n",
        "    \"\"\"\n",
        "\n",
        "    # Convertir el ángulo de grados a radianes\n",
        "    angulo_radianes = sp.pi * angulo_grados / 180\n",
        "\n",
        "    # Definir la matriz de rotación en 3D según el eje especificado\n",
        "    if eje == 'x':\n",
        "        matriz_rotacion_3d = sp.Matrix([\n",
        "            [1, 0, 0],\n",
        "            [0, sp.cos(angulo_radianes), -sp.sin(angulo_radianes)],\n",
        "            [0, sp.sin(angulo_radianes), sp.cos(angulo_radianes)]\n",
        "        ])\n",
        "    elif eje == 'y':\n",
        "        matriz_rotacion_3d = sp.Matrix([\n",
        "            [sp.cos(angulo_radianes), 0, sp.sin(angulo_radianes)],\n",
        "            [0, 1, 0],\n",
        "            [-sp.sin(angulo_radianes), 0, sp.cos(angulo_radianes)]\n",
        "        ])\n",
        "    elif eje == 'z':\n",
        "        matriz_rotacion_3d = sp.Matrix([\n",
        "            [sp.cos(angulo_radianes), -sp.sin(angulo_radianes), 0],\n",
        "            [sp.sin(angulo_radianes), sp.cos(angulo_radianes), 0],\n",
        "            [0, 0, 1]\n",
        "        ])\n",
        "    else:\n",
        "        raise ValueError(\"El eje debe ser 'x', 'y' o 'z'.\")\n",
        "\n",
        "    # Convertir el vector de entrada en una matriz columna\n",
        "    vector_columna = sp.Matrix(vector)\n",
        "\n",
        "    # Aplicar la matriz de rotación al vector\n",
        "    vector_rotado = matriz_rotacion_3d * vector_columna\n",
        "\n",
        "    # Devolver el resultado como una tupla con los valores simplificados\n",
        "    return tuple(v.simplify() for v in vector_rotado)\n",
        "\n",
        "if __name__ == \"__main__\":\n",
        "    try:\n",
        "        # Solicitar al usuario que ingrese las coordenadas del vector\n",
        "        entrada_vector = input(\"Introduce las coordenadas del vector (x y z): \").split()\n",
        "\n",
        "        # Validar que se hayan ingresado exactamente tres valores\n",
        "        if len(entrada_vector) != 3:\n",
        "            raise ValueError(\"Debe ingresar exactamente tres valores para las coordenadas del vector.\")\n",
        "\n",
        "        # Convertir los valores ingresados en expresiones simbólicas\n",
        "        vector = tuple(sp.sympify(i) for i in entrada_vector)\n",
        "\n",
        "        # Solicitar al usuario que ingrese el ángulo de rotación\n",
        "        angulo = sp.sympify(input(\"Introduce el ángulo de rotación en grados: \"))\n",
        "\n",
        "        # Solicitar el eje de rotación y validarlo\n",
        "        eje = input(\"Introduce el eje de rotación (x, y, z): \").lower()\n",
        "        if eje not in ('x', 'y', 'z'):\n",
        "            raise ValueError(\"El eje debe ser 'x', 'y' o 'z'.\")\n",
        "\n",
        "        # Calcular el vector rotado\n",
        "        vector_rotado = rotacion_tridimensional(vector, angulo, eje)\n",
        "\n",
        "        # Mostrar el resultado\n",
        "        print(f\"Vector rotado: {vector_rotado}\")\n",
        "\n",
        "    except Exception as e:\n",
        "        # Capturar y mostrar errores en la entrada o procesamiento de datos\n",
        "        print(\"Error:\", e)"
      ]
    }
  ]
}