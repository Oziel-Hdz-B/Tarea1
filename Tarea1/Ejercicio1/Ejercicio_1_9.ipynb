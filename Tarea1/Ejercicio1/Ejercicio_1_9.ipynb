{
  "nbformat": 4,
  "nbformat_minor": 0,
  "metadata": {
    "colab": {
      "provenance": []
    },
    "kernelspec": {
      "name": "python3",
      "display_name": "Python 3"
    },
    "language_info": {
      "name": "python"
    }
  },
  "cells": [
    {
      "cell_type": "markdown",
      "source": [
        "# **1.9 Calcule la norma 1**\n",
        "\n",
        "$$\\|A\\|_1=\\operatorname{máx}_{1 \\leq j \\leq n} \\sum_{i=1}^m\\left|a_{i j}\\right|$$"
      ],
      "metadata": {
        "id": "K59i1glLBRMn"
      }
    },
    {
      "cell_type": "code",
      "execution_count": null,
      "metadata": {
        "colab": {
          "base_uri": "https://localhost:8080/"
        },
        "id": "V6mvnVLXBPKg",
        "outputId": "3691eb73-4cf1-43d9-e888-143f8a9aac85"
      },
      "outputs": [
        {
          "output_type": "stream",
          "name": "stdout",
          "text": [
            "Introduce el número de filas de la matriz: 2\n",
            "Introduce el número de columnas de la matriz: 5\n",
            "Introduce los elementos de la matriz fila por fila (una a la vez), separados por espacios:\n",
            "1 2 3 4 5\n",
            "6 7 8 9 10\n",
            "Norma 1 de la matriz: 15\n"
          ]
        }
      ],
      "source": [
        "import sympy as sp\n",
        "\n",
        "def norma_1_matriz(A):\n",
        "    \"\"\"\n",
        "    Calcula la norma 1 de una matriz A.\n",
        "\n",
        "    La norma 1 de una matriz se define como el máximo de la suma de los valores absolutos\n",
        "    de los elementos en cada columna.\n",
        "\n",
        "    :param A: Matriz de tamaño n x m con elementos exactos o numéricos (sympy.Matrix).\n",
        "    :return: Norma 1 de la matriz, expresada en su forma simbólica simplificada si es posible.\n",
        "    \"\"\"\n",
        "\n",
        "    # Obtener el número de columnas de la matriz\n",
        "    columnas = A.shape[1]\n",
        "\n",
        "    # Calcular la norma 1 como el máximo de la suma de los valores absolutos en cada columna\n",
        "    norma_1 = max(sum(abs(A[i, j]) for i in range(A.shape[0])) for j in range(columnas))\n",
        "\n",
        "    # Devolver la norma simplificada\n",
        "    return norma_1.simplify()\n",
        "\n",
        "if __name__ == \"__main__\":\n",
        "    try:\n",
        "        # Solicitar dimensiones de la matriz al usuario\n",
        "        filas = int(input(\"Introduce el número de filas de la matriz: \"))\n",
        "        columnas = int(input(\"Introduce el número de columnas de la matriz: \"))\n",
        "\n",
        "        # Validar que las dimensiones sean positivas\n",
        "        if filas <= 0 or columnas <= 0:\n",
        "            raise ValueError(\"El número de filas y columnas debe ser mayor que cero.\")\n",
        "\n",
        "        # Leer la matriz desde la entrada del usuario\n",
        "        print(\"Introduce los elementos de la matriz fila por fila (una a la vez), separados por espacios:\")\n",
        "        matriz = []\n",
        "\n",
        "        for _ in range(filas):\n",
        "            fila = input().split()\n",
        "\n",
        "            # Validar que la fila tenga la cantidad correcta de columnas\n",
        "            if len(fila) != columnas:\n",
        "                raise ValueError(f\"Cada fila debe contener exactamente {columnas} valores.\")\n",
        "\n",
        "            # Convertir cada entrada en una expresión simbólica\n",
        "            matriz.append([sp.sympify(x) for x in fila])\n",
        "\n",
        "        # Crear la matriz en SymPy\n",
        "        A = sp.Matrix(matriz)\n",
        "\n",
        "        # Calcular la norma 1\n",
        "        norma = norma_1_matriz(A)\n",
        "\n",
        "        # Mostrar el resultado\n",
        "        print(f\"Norma 1 de la matriz: {norma}\")\n",
        "\n",
        "    except ValueError as ve:\n",
        "        print(\"Error de entrada:\", ve)\n",
        "    except Exception as e:\n",
        "        print(\"Error inesperado:\", e)"
      ]
    }
  ]
}