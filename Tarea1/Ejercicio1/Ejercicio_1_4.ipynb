{
  "nbformat": 4,
  "nbformat_minor": 0,
  "metadata": {
    "colab": {
      "provenance": []
    },
    "kernelspec": {
      "name": "python3",
      "display_name": "Python 3"
    },
    "language_info": {
      "name": "python"
    }
  },
  "cells": [
    {
      "cell_type": "markdown",
      "source": [
        "---\n",
        "\n",
        "##**1.4 Haga un programa que realice la transpuesta conjugada de una matriz compleja**"
      ],
      "metadata": {
        "id": "MWnOlgrWUmza"
      }
    },
    {
      "cell_type": "code",
      "execution_count": 1,
      "metadata": {
        "id": "NzZb14RlUW7E"
      },
      "outputs": [],
      "source": [
        "import numpy as np\n",
        "import time as time"
      ]
    },
    {
      "cell_type": "code",
      "source": [
        "# Definir una matriz compleja\n",
        "A = np.array([[1 + 2j, 3 - 4j],\n",
        " [5 + 6j, 7 - 8j]])"
      ],
      "metadata": {
        "id": "e4P6ktUJUd0P"
      },
      "execution_count": 2,
      "outputs": []
    },
    {
      "cell_type": "code",
      "source": [
        "def Transpuesta(Mat):\n",
        "    \"\"\"\n",
        "    Calcula la transpuesta de una matriz cuadrada modificando la matriz original.\n",
        "\n",
        "    Parámetros:\n",
        "    -----------\n",
        "    Mat : numpy.ndarray\n",
        "        Matriz cuadrada de tamaño n x n que se transpondrá.\n",
        "        La matriz se modificará in situ.\n",
        "\n",
        "    Retorna:\n",
        "    --------\n",
        "    numpy.ndarray\n",
        "        La matriz transpuesta. La matriz original también se modifica.\n",
        "\n",
        "    Ejemplo:\n",
        "    --------\n",
        "    >>> Mat = np.array([[1, 2, 3],\n",
        "    ...                [4, 5, 6],\n",
        "    ...                [7, 8, 9]])\n",
        "    >>> Transpuesta(Mat)\n",
        "    array([[1, 4, 7],\n",
        "           [2, 5, 8],\n",
        "           [3, 6, 9]])\n",
        "    \"\"\"\n",
        "    for ren in range(Mat.shape[0]):\n",
        "        for col in range(Mat.shape[1]):\n",
        "            if ren < col:\n",
        "                # Intercambia los elementos para obtener la transpuesta\n",
        "                Mat[ren, col], Mat[col, ren] = Mat[col, ren], Mat[ren, col]\n",
        "    return Mat"
      ],
      "metadata": {
        "id": "nECWAELSUeVB"
      },
      "execution_count": 3,
      "outputs": []
    },
    {
      "cell_type": "code",
      "source": [
        "\n",
        "def mat_transpuesta_conjugada(A):\n",
        "  \"\"\"\n",
        "    Calcula la transpuesta conjugada de una matriz A.\n",
        "\n",
        "    Parámetros:\n",
        "    -----------\n",
        "    A : numpy.ndarray\n",
        "        Una matriz de tamaño (m, n), donde m es el número de filas y n es el número de columnas.\n",
        "        La matriz puede contener elementos complejos.\n",
        "\n",
        "    Retorno:\n",
        "    --------\n",
        "    C : numpy.ndarray\n",
        "        Una matriz de tamaño (n, m) que contiene la transpuesta conjugada de A.\n",
        "\n",
        "    Observaciones:\n",
        "    --------------\n",
        "    1. La función utiliza una función auxiliar Transpuesta(A) para calcular la transpuesta de A.\n",
        "    2. La conjugación de un número complejo z = a + bj es z̅ = a - bj.\n",
        "    3. La matriz resultado C se inicializa con ceros y tiene las mismas dimensiones que A antes de la transposición.\n",
        "    4. La función utiliza bucles anidados para recorrer cada elemento de la matriz transpuesta y aplicar la conjugación.\n",
        "  \"\"\"\n",
        "  # Inicializar la matriz resultado con ceros\n",
        "  C = np.zeros_like(A)\n",
        "\n",
        "  # Calcular la transpuesta de A\n",
        "  C = Transpuesta(A)\n",
        "\n",
        "  # Conjugar cada elemento de la matriz transpuesta\n",
        "  for i in range(A.shape[0]):\n",
        "    for j in range(A.shape[1]):\n",
        "      C[i, j] = C[i, j].real - C[i, j].imag * 1j\n",
        "\n",
        "  return C"
      ],
      "metadata": {
        "id": "PONysFvPUgIL"
      },
      "execution_count": 4,
      "outputs": []
    },
    {
      "cell_type": "code",
      "source": [
        "print(mat_transpuesta_conjugada(A))"
      ],
      "metadata": {
        "colab": {
          "base_uri": "https://localhost:8080/"
        },
        "id": "IwtuRFT2UjAy",
        "outputId": "b614bd93-f7b5-40e8-d626-def0e39688b7"
      },
      "execution_count": 5,
      "outputs": [
        {
          "output_type": "stream",
          "name": "stdout",
          "text": [
            "[[1.-2.j 5.-6.j]\n",
            " [3.+4.j 7.+8.j]]\n"
          ]
        }
      ]
    }
  ]
}