{
  "nbformat": 4,
  "nbformat_minor": 0,
  "metadata": {
    "colab": {
      "provenance": []
    },
    "kernelspec": {
      "name": "python3",
      "display_name": "Python 3"
    },
    "language_info": {
      "name": "python"
    }
  },
  "cells": [
    {
      "cell_type": "markdown",
      "source": [
        "##**1.2 Programe la suma de matrices por bloques.**\n"
      ],
      "metadata": {
        "id": "G-JKT74eTAEi"
      }
    },
    {
      "cell_type": "code",
      "source": [
        "import numpy as np\n",
        "import time as time"
      ],
      "metadata": {
        "id": "TEHdoytFTYo4"
      },
      "execution_count": 4,
      "outputs": []
    },
    {
      "cell_type": "code",
      "execution_count": 5,
      "metadata": {
        "id": "HDKaDk5fS5ZC"
      },
      "outputs": [],
      "source": [
        "def suma_matrices(A, B):\n",
        "  \"\"\"\n",
        "    Realiza la suma de dos matrices A y B del mismo tamaño.\n",
        "\n",
        "    Parámetros:\n",
        "    -----------\n",
        "    A : numpy.ndarray\n",
        "        Una matriz de tamaño (m, n), donde m es el número de filas y n es el número de columnas.\n",
        "    B : numpy.ndarray\n",
        "        Una matriz de tamaño (m, n), donde m es el número de filas y n es el número de columnas.\n",
        "\n",
        "    Retorno:\n",
        "    --------\n",
        "    C : numpy.ndarray\n",
        "        Una matriz de tamaño (m, n) que contiene la suma de las matrices A y B.\n",
        "\n",
        "    Observaciones:\n",
        "    --------------\n",
        "    1. La función no verifica explícitamente que las dimensiones de A y B coincidan.\n",
        "    2. La matriz resultado C se inicializa con ceros y tiene las mismas dimensiones que A.\n",
        "    3. La suma se realiza elemento por elemento utilizando bucles anidados.\n",
        "  \"\"\"\n",
        "  # Inicializar la matriz resultado con ceros\n",
        "  C = np.zeros_like(A)\n",
        "\n",
        "  # Realizar la suma elemento por elemento\n",
        "  for i in range(A.shape[0]):\n",
        "    for j in range(A.shape[1]):\n",
        "      C[i, j] = A[i, j] + B[i, j]\n",
        "\n",
        "  return C"
      ]
    },
    {
      "cell_type": "code",
      "source": [
        "\n",
        "def suma_mat_por_bloq(A, B, tamaño):\n",
        "  \"\"\"\n",
        "    Realiza la suma de dos matrices A y B utilizando un enfoque de bloques.\n",
        "\n",
        "    Parámetros:\n",
        "    -----------\n",
        "    A : numpy.ndarray\n",
        "        Una matriz de tamaño (m, n), donde m es el número de filas y n es el número de columnas.\n",
        "    B : numpy.ndarray\n",
        "        Una matriz de tamaño (p, q), donde p es el número de filas y q es el número de columnas.\n",
        "    tamaño : int\n",
        "        El tamaño de los bloques en los que se dividirán las matrices para la suma.\n",
        "\n",
        "    Retorno:\n",
        "    --------\n",
        "    C : numpy.ndarray\n",
        "        Una matriz de tamaño (m, q) que contiene la suma de las matrices A y B.\n",
        "\n",
        "    Observaciones:\n",
        "    --------------\n",
        "    1. La función verifica que las dimensiones de A y B sean iguales.\n",
        "    2. La matriz resultado C se inicializa con ceros y tiene dimensiones (m, q).\n",
        "    3. La suma se realiza dividiendo las matrices en bloques más pequeños.\n",
        "    4. La notación [i:j] en Python extrae elementos desde la posición i hasta la posición j-1.\n",
        "    5. La función utiliza la función suma_matrices para sumar los bloques.\n",
        "  \"\"\"\n",
        "  # Obtener las dimensiones de las matrices\n",
        "  m, n = A.shape\n",
        "  p, q = B.shape\n",
        "\n",
        "  # Verificar que las dimensiones sean compatibles para la suma\n",
        "  if m == p and n == q:\n",
        "    C = np.zeros((m, q))\n",
        "\n",
        "    # Suma por bloques\n",
        "    for i in range(0, m, tamaño):\n",
        "      for j in range(0, q, tamaño):\n",
        "        # Definir los límites de los bloques\n",
        "        i_end = min(i + tamaño, m)  # Asegurar que no se exceda el límite de filas de A\n",
        "        j_end = min(j + tamaño, q)  # Asegurar que no se exceda el límite de columnas de B\n",
        "        \"\"\"\n",
        "        La idea del bloque anterior es tomar bloques de tamaño, si este supera en cierto\n",
        "        punto el tamaño de la matriz, por decir, que fuera de 7x7 y son bloque de 4 entonces\n",
        "        tomaría en lugar de un bloque de 4x4 sería de 3x3, para eso se definen donde\n",
        "        *termina* cada paso del ciclo. Para así tomar los últimos bloques de 3x3 y no de 4x4\n",
        "        y evitar errores fuera de rango\n",
        "        \"\"\"\n",
        "\n",
        "        # Extraer los bloques de A, B y C\n",
        "        A_block = A[i:i_end, j:j_end]\n",
        "        B_block = B[i:i_end, j:j_end]\n",
        "        C_block = C[i:i_end, j:j_end]\n",
        "\n",
        "        # Sumar los bloques y almacenar en el bloque correspondiente de C\n",
        "        C[i:i_end, j:j_end] = suma_matrices(A_block, B_block)\n",
        "    return C"
      ],
      "metadata": {
        "id": "NCNn3DBeTGBT"
      },
      "execution_count": 6,
      "outputs": []
    },
    {
      "cell_type": "code",
      "source": [
        "n=150\n",
        "\n",
        "#declaramos los arreglos a utiliazr\n",
        "a=n*[n*[2]]\n",
        "b=n*[n*[4]]\n",
        "\n",
        "#pasamos a arreglos de numpy\n",
        "A=np.array(a)\n",
        "B=np.array(b)\n",
        "\n",
        "print(A.shape,B.shape)\n",
        "print(suma_mat_por_bloq(A,B,8).shape)\n",
        "suma_mat_por_bloq(A,B,5)"
      ],
      "metadata": {
        "colab": {
          "base_uri": "https://localhost:8080/"
        },
        "id": "pVt9QKo0TKrI",
        "outputId": "4ab2e61b-1bf8-4d94-d3b1-a04d90f8e192"
      },
      "execution_count": 8,
      "outputs": [
        {
          "output_type": "stream",
          "name": "stdout",
          "text": [
            "(150, 150) (150, 150)\n",
            "(150, 150)\n"
          ]
        },
        {
          "output_type": "execute_result",
          "data": {
            "text/plain": [
              "array([[6., 6., 6., ..., 6., 6., 6.],\n",
              "       [6., 6., 6., ..., 6., 6., 6.],\n",
              "       [6., 6., 6., ..., 6., 6., 6.],\n",
              "       ...,\n",
              "       [6., 6., 6., ..., 6., 6., 6.],\n",
              "       [6., 6., 6., ..., 6., 6., 6.],\n",
              "       [6., 6., 6., ..., 6., 6., 6.]])"
            ]
          },
          "metadata": {},
          "execution_count": 8
        }
      ]
    }
  ]
}