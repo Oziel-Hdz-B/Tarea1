{
  "nbformat": 4,
  "nbformat_minor": 0,
  "metadata": {
    "colab": {
      "provenance": []
    },
    "kernelspec": {
      "name": "python3",
      "display_name": "Python 3"
    },
    "language_info": {
      "name": "python"
    }
  },
  "cells": [
    {
      "cell_type": "markdown",
      "source": [
        "# **1.10 Calcule la norma infinito**\n",
        "\n",
        "$$\\|A\\|_{\\infty}=\\operatorname{máx}_{1 \\leq i \\leq m} \\sum_{j=1}^n\\left|a_{i j}\\right|$$"
      ],
      "metadata": {
        "id": "XgYpFjXrCCSQ"
      }
    },
    {
      "cell_type": "code",
      "execution_count": null,
      "metadata": {
        "colab": {
          "base_uri": "https://localhost:8080/"
        },
        "id": "fSVdaOf1B1r7",
        "outputId": "e1633319-1f1d-433f-a778-66dcfeafc564"
      },
      "outputs": [
        {
          "output_type": "stream",
          "name": "stdout",
          "text": [
            "Introduce el número de filas de la matriz: 6\n",
            "Introduce el número de columnas de la matriz: 2\n",
            "Introduce los elementos de la matriz fila por fila (una a la vez), separados por espacios:\n",
            "1 2\n",
            "3 4\n",
            "5 6\n",
            "7 8\n",
            "9 10\n",
            "11 12\n",
            "Norma infinito de la matriz: 23\n"
          ]
        }
      ],
      "source": [
        "import sympy as sp\n",
        "\n",
        "def norma_infinito_matriz(A):\n",
        "\n",
        "    \"\"\"\n",
        "    Calcula la norma infinito de una matriz A.\n",
        "\n",
        "    La norma infinito de una matriz se define como el máximo de la suma de los valores absolutos\n",
        "    de los elementos en cada fila.\n",
        "\n",
        "    :param A: Matriz de tamaño n x m con elementos simbólicos o numéricos (sympy.Matrix).\n",
        "    :return: Norma infinito de la matriz, expresada en su forma simbólica simplificada si es posible.\n",
        "    \"\"\"\n",
        "\n",
        "    # Obtener el número de filas de la matriz\n",
        "    filas = A.shape[0]\n",
        "\n",
        "    # Calcular la norma infinito como el máximo de la suma de los valores absolutos en cada fila\n",
        "    norma_inf = max(sum(abs(A[i, j]) for j in range(A.shape[1])) for i in range(filas))\n",
        "\n",
        "    # Devolver la norma simplificada\n",
        "    return norma_inf.simplify()\n",
        "\n",
        "if __name__ == \"__main__\":\n",
        "    try:\n",
        "        # Solicitar dimensiones de la matriz al usuario\n",
        "        filas = int(input(\"Introduce el número de filas de la matriz: \"))\n",
        "        columnas = int(input(\"Introduce el número de columnas de la matriz: \"))\n",
        "\n",
        "        # Validar que las dimensiones sean positivas\n",
        "        if filas <= 0 or columnas <= 0:\n",
        "            raise ValueError(\"El número de filas y columnas debe ser mayor que cero.\")\n",
        "\n",
        "        # Leer la matriz desde la entrada del usuario\n",
        "        print(\"Introduce los elementos de la matriz fila por fila (una a la vez), separados por espacios:\")\n",
        "        matriz = []\n",
        "\n",
        "        for _ in range(filas):\n",
        "            fila = input().split()\n",
        "\n",
        "            # Validar que la fila tenga la cantidad correcta de columnas\n",
        "            if len(fila) != columnas:\n",
        "                raise ValueError(f\"Cada fila debe contener exactamente {columnas} valores.\")\n",
        "\n",
        "            # Convertir cada entrada en una expresión simbólica\n",
        "            matriz.append([sp.sympify(x) for x in fila])\n",
        "\n",
        "        # Crear la matriz en SymPy\n",
        "        A = sp.Matrix(matriz)\n",
        "\n",
        "        # Calcular la norma infinito\n",
        "        resultado = norma_infinito_matriz(A)\n",
        "\n",
        "        # Mostrar el resultado\n",
        "        print(f\"Norma infinito de la matriz: {resultado}\")\n",
        "\n",
        "    except ValueError as ve:\n",
        "        print(\"Error de entrada:\", ve)\n",
        "    except Exception as e:\n",
        "        print(\"Error inesperado:\", e)"
      ]
    }
  ]
}