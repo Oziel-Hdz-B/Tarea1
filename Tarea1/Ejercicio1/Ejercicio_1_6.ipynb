{
  "nbformat": 4,
  "nbformat_minor": 0,
  "metadata": {
    "colab": {
      "provenance": []
    },
    "kernelspec": {
      "name": "python3",
      "display_name": "Python 3"
    },
    "language_info": {
      "name": "python"
    }
  },
  "cells": [
    {
      "cell_type": "markdown",
      "source": [
        "\n",
        "\n",
        "---\n",
        "##**1.6 Desarrollar un programa que calcule el producto cruz entre dos vectores tridimensionales.**\n",
        "\n",
        "$\\mathbf{u}=\\left(u_1, u_2, u_3\\right)$ y $\\mathbf{v}=\\left(v_1, v_2, v_3\\right)$, su producto cruz $\\mathbf{u} \\times \\mathbf{v}$ se define como:\n",
        "$$\n",
        "\\mathbf{u} \\times \\mathbf{v}=\\left|\\begin{array}{ccc}\n",
        "\\mathbf{i} & \\mathbf{j} & \\mathbf{k} \\\\\n",
        "u_1 & u_2 & u_3 \\\\\n",
        "v_1 & v_2 & v_3\n",
        "\\end{array}\\right|=\\left(u_2 v_3-u_3 v_2, u_3 v_1-u_1 v_3, u_1 v_2-u_2 v_1\\right)\n",
        "$$\n"
      ],
      "metadata": {
        "id": "_8T46jfQV6K0"
      }
    },
    {
      "cell_type": "code",
      "execution_count": 1,
      "metadata": {
        "id": "feXe0GREV5pT"
      },
      "outputs": [],
      "source": [
        "import numpy as np\n",
        "\n",
        "def producto_cruz(u, v):\n",
        "  \"\"\"\n",
        "    Calcula el producto cruz (producto vectorial) de dos vectores tridimensionales u y v.\n",
        "\n",
        "    Parámetros:\n",
        "    -----------\n",
        "    u : numpy.ndarray o list\n",
        "        Un vector tridimensional (longitud 3).\n",
        "    v : numpy.ndarray o list\n",
        "        Un vector tridimensional (longitud 3).\n",
        "\n",
        "    Retorno:\n",
        "    --------\n",
        "    np.array([c_x, c_y, c_z]) : numpy.ndarray\n",
        "        Un vector tridimensional que representa el producto cruz de u y v.\n",
        "    np.NaN : float\n",
        "        Si los vectores u o v no son tridimensionales.\n",
        "\n",
        "    Observaciones:\n",
        "    --------------\n",
        "    1. La función verifica que ambos vectores u y v tengan exactamente 3 componentes.\n",
        "    2. El producto cruz de u y v se calcula como:\n",
        "       u × v = (u_y v_z - u_z v_y, u_z v_x - u_x v_z, u_x v_y - u_y v_x).\n",
        "    3. El vector resultante es perpendicular a ambos vectores u y v.\n",
        "  \"\"\"\n",
        "  # Verificar que los vectores sean tridimensionales\n",
        "  if len(u) != 3 or len(v) != 3:\n",
        "    return np.NaN\n",
        "\n",
        "  # Calcular las componentes del producto cruz\n",
        "  c_x = u[1] * v[2] - u[2] * v[1]\n",
        "  c_y = u[2] * v[0] - u[0] * v[2]\n",
        "  c_z = u[0] * v[1] - u[1] * v[0]\n",
        "\n",
        "  # Devolver el vector resultante\n",
        "  return np.array([c_x, c_y, c_z])"
      ]
    },
    {
      "cell_type": "code",
      "source": [
        "# Definir dos vectores tridimensionales\n",
        "u = np.array([1, 2, 3])\n",
        "v = np.array([1, 2, 3])\n",
        "\n",
        "producto_cruz(u,v)"
      ],
      "metadata": {
        "colab": {
          "base_uri": "https://localhost:8080/"
        },
        "id": "bJlCgMMjWApt",
        "outputId": "818caddc-adf1-4573-bd2a-efa587fb0a92"
      },
      "execution_count": 2,
      "outputs": [
        {
          "output_type": "execute_result",
          "data": {
            "text/plain": [
              "array([0, 0, 0])"
            ]
          },
          "metadata": {},
          "execution_count": 2
        }
      ]
    }
  ]
}