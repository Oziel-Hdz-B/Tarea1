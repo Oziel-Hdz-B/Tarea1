{
  "nbformat": 4,
  "nbformat_minor": 0,
  "metadata": {
    "colab": {
      "provenance": []
    },
    "kernelspec": {
      "name": "python3",
      "display_name": "Python 3"
    },
    "language_info": {
      "name": "python"
    }
  },
  "cells": [
    {
      "cell_type": "markdown",
      "source": [
        "# **1.7 Crear un programa que aplique una rotación de un vector bidimensional mediante una matriz de rotación**"
      ],
      "metadata": {
        "id": "9L2qZb8iAaYr"
      }
    },
    {
      "cell_type": "code",
      "execution_count": null,
      "metadata": {
        "colab": {
          "base_uri": "https://localhost:8080/"
        },
        "id": "gg-rFazX_plt",
        "outputId": "a8b692f7-0fd1-485b-d019-69d7599881a0"
      },
      "outputs": [
        {
          "output_type": "stream",
          "name": "stdout",
          "text": [
            "Introduce las coordenadas del vector (x y): 6 7\n",
            "Introduce el ángulo de rotación en grados (puede usar pi, sqrt, etc.): 19\n",
            "Vector rotado: (-7*sin(19*pi/180) + 6*cos(19*pi/180), 6*sin(19*pi/180) + 7*cos(19*pi/180))\n"
          ]
        }
      ],
      "source": [
        "import sympy as sp\n",
        "\n",
        "def rotacion_bidimensional(vector, angulo_en_grados):\n",
        "    \"\"\"\n",
        "    Rota un vector en el plano bidimensional por un ángulo dado en grados.\n",
        "\n",
        "    Utiliza la matriz de rotación en 2D para realizar la transformación del vector.\n",
        "\n",
        "    :param vector: Tupla o lista con las coordenadas del vector (x, y). Puede contener valores numéricos o simbólicos.\n",
        "    :param angulo_en_grados: Ángulo de rotación en grados. Puede ser un número o una expresión simbólica.\n",
        "    :return: Tupla (x', y') con las coordenadas del vector rotado, simplificadas si es posible.\n",
        "    \"\"\"\n",
        "\n",
        "    # Convertir el ángulo de grados a radianes\n",
        "    angulo_en_radianes = sp.pi * angulo_en_grados / 180\n",
        "\n",
        "    # Definir la matriz de rotación en 2D\n",
        "    matriz_rotacion_2d = sp.Matrix([\n",
        "        [sp.cos(angulo_en_radianes), -sp.sin(angulo_en_radianes)],\n",
        "        [sp.sin(angulo_en_radianes), sp.cos(angulo_en_radianes)]\n",
        "    ])\n",
        "\n",
        "    # Convertir el vector de entrada en una matriz columna\n",
        "    vector_columna = sp.Matrix(vector)\n",
        "\n",
        "    # Aplicar la matriz de rotación al vector\n",
        "    vector_rotado = matriz_rotacion_2d * vector_columna\n",
        "\n",
        "    # Devolver el resultado como una tupla con los valores simplificados\n",
        "    return tuple(v.simplify() for v in vector_rotado)\n",
        "\n",
        "if __name__ == \"__main__\":\n",
        "    try:\n",
        "        # Solicitar al usuario que ingrese las coordenadas del vector\n",
        "        entrada_vector = input(\"Introduce las coordenadas del vector (x y): \").split()\n",
        "\n",
        "        # Validar que se hayan ingresado exactamente dos valores\n",
        "        if len(entrada_vector) != 2:\n",
        "            raise ValueError(\"Debe ingresar exactamente dos valores para las coordenadas del vector.\")\n",
        "\n",
        "        # Convertir los valores ingresados en expresiones simbólicas\n",
        "        vector = tuple(sp.sympify(i) for i in entrada_vector)\n",
        "\n",
        "        # Solicitar al usuario que ingrese el ángulo de rotación\n",
        "        angulo = sp.sympify(input(\"Introduce el ángulo de rotación en grados (puede usar pi, sqrt, etc.): \"))\n",
        "\n",
        "        # Calcular el vector rotado\n",
        "        vector_rotado = rotacion_bidimensional(vector, angulo)\n",
        "\n",
        "        # Mostrar el resultado\n",
        "        print(\"Vector rotado:\", vector_rotado)\n",
        "\n",
        "    except Exception as e:\n",
        "        # Capturar y mostrar errores en la entrada o procesamiento de datos\n",
        "        print(\"Error:\", e)"
      ]
    }
  ]
}