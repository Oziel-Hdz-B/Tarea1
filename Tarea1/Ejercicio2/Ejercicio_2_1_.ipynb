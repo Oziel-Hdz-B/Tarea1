{
  "nbformat": 4,
  "nbformat_minor": 0,
  "metadata": {
    "colab": {
      "provenance": []
    },
    "kernelspec": {
      "name": "python3",
      "display_name": "Python 3"
    },
    "language_info": {
      "name": "python"
    }
  },
  "cells": [
    {
      "cell_type": "code",
      "execution_count": null,
      "metadata": {
        "colab": {
          "base_uri": "https://localhost:8080/"
        },
        "id": "1JMMAzfFcYgu",
        "outputId": "f3f94c6c-891e-418c-df5c-6c62d40ba478"
      },
      "outputs": [
        {
          "output_type": "stream",
          "name": "stdout",
          "text": [
            "Matriz A:\n",
            "[[ 2  3  2]\n",
            " [10 10  2]\n",
            " [ 1  4  8]]\n",
            "\n",
            "Vector b:\n",
            "[10  4 10]\n",
            "\n",
            "Solución del sistema:\n",
            "[-17.2  18.8  -6. ]\n"
          ]
        }
      ],
      "source": [
        "import numpy as np\n",
        "from numpy.linalg import det\n",
        "\n",
        "\n",
        "def metodocrammer(A, b):\n",
        "    \"\"\"\n",
        "    Resuelve un sistema de ecuaciones lineales Ax = b utilizando la regla de Cramer.\n",
        "\n",
        "    Parámetros:\n",
        "    A (numpy.ndarray): Matriz de coeficientes del sistema.\n",
        "    b (numpy.ndarray): Vector de términos independientes.\n",
        "\n",
        "    Retorna:\n",
        "    numpy.ndarray | None: Solución del sistema si tiene una única solución, de lo contrario, None.\n",
        "    \"\"\"\n",
        "    A = np.array(A, dtype=float)\n",
        "    b = np.array(b, dtype=float)\n",
        "    n = A.shape[1]\n",
        "\n",
        "    dA = det(A)  # Calculamos el determinante de A\n",
        "    if dA == 0:\n",
        "        print(\"El sistema no tiene solución única.\")\n",
        "        return None\n",
        "\n",
        "    soluciones = np.zeros(n)\n",
        "    for i in range(n):\n",
        "        Ai = A.copy()\n",
        "        Ai[:, i] = b  # Reemplazamos la columna i con el vector b\n",
        "        soluciones[i] = det(Ai) / dA  # Calculamos la solución usando determinantes\n",
        "\n",
        "    return soluciones\n",
        "\n",
        "# Definimos el tamaño de la matriz\n",
        "n = 3\n",
        "\n",
        "#  matriz A y un vector b con números enteros aleatorios entre 1 y 10\n",
        "A = np.random.randint(1, 11, size=(n, n))\n",
        "b = np.random.randint(1, 11, size=n)\n",
        "\n",
        "# Imprimimos la matriz y el vector generados\n",
        "print(\"Matriz A:\")\n",
        "print(A)\n",
        "\n",
        "print(\"\\nVector b:\")\n",
        "print(b)\n",
        "\n",
        "# Resolución del sistema de ecuaciones\n",
        "solucionaAyBaleatorio = metodocrammer(A, b)\n",
        "\n",
        "# condicionamos si hay solucion o no para que se muestre su respectivo resultado\n",
        "if solucionaAyBaleatorio is not None:\n",
        "  print(\"\\nSolución del sistema:\")\n",
        "  print(solucionaAyBaleatorio)\n"
      ]
    },
    {
      "cell_type": "markdown",
      "source": [
        "Codigo hecho en clase"
      ],
      "metadata": {
        "id": "-6Blv8Xlcgfl"
      }
    },
    {
      "cell_type": "code",
      "source": [
        "import numpy as np\n",
        "from numpy import linalg as LA\n",
        "\n",
        "\n",
        "#Crea una submatriz eliminando un renglón y una columna específicos de la matriz original.\n",
        "def SubMat(Mat, ren, col):\n",
        " # Crear una copia de la matriz original para no modificarla\n",
        "    M1 = np.copy(Mat)\n",
        "\n",
        "    # Eliminar el renglón especificado\n",
        "    M1 = np.delete(M1, ren, axis=0)\n",
        "\n",
        "    # Eliminar la columna especificada\n",
        "    M1 = np.delete(M1, col, axis=1)\n",
        "\n",
        "    return M1\n",
        "\n",
        "#Calcula el determinante de una matriz cuadrada de manera recursiva.\n",
        "\n",
        "def Det(Mat):\n",
        "   # Caso base: matriz 2x2\n",
        "    if Mat.shape[0] == 2 and Mat.shape[1] == 2:\n",
        "        return Mat[0][0] * Mat[1][1] - (Mat[0][1] * Mat[1][0])\n",
        "\n",
        "    # Caso recursivo: matrices más grandes\n",
        "    deter = 0.0\n",
        "    for col in range(Mat.shape[0]):\n",
        "        # Calcula el cofactor y suma al determinante\n",
        "        deter += ((-1) ** col) * Mat[0][col] * Det(SubMat(Mat, 0, col))\n",
        "    return deter\n",
        "\n",
        "# Calcula la transpuesta de una matriz cuadrada modificando la matriz original.\n",
        "def Transpuesta(Mat):\n",
        "    for ren in range(Mat.shape[0]):\n",
        "        for col in range(Mat.shape[1]):\n",
        "            if ren < col:\n",
        "                # Intercambia los elementos para obtener la transpuesta\n",
        "                Mat[ren, col], Mat[col, ren] = Mat[col, ren], Mat[ren, col]\n",
        "    return Mat\n",
        "\n",
        "\"Calcula la matriz de cofactores de una matriz cuadrada\"\n",
        "def Cofactores(Mat):\n",
        "# Crear una matriz de ceros del mismo tamaño que Mat para almacenar los cofactores\n",
        "    Cofa = np.zeros_like(Mat, dtype=float)\n",
        "\n",
        "    # Calcular el cofactor para cada elemento de la matriz\n",
        "    for ren in range(Mat.shape[0]):\n",
        "        for col in range(Mat.shape[1]):\n",
        "            # Calcular el determinante de la submatriz (menor) y aplicar el signo\n",
        "            Cofa[ren, col] = ((-1) ** (ren + col)) * Det(SubMat(Mat, ren, col))\n",
        "    return Cofa\n",
        "\n",
        "\"Calcula la inversa de una matriz cuadrada utilizando la matriz de cofactores\"\n",
        "def Inv(Mat):\n",
        "  # Calcular el determinante de la matriz\n",
        "    deter = Det(Mat)\n",
        "\n",
        "    # Verificar si la matriz es singular (determinante = 0)\n",
        "    if deter == 0:\n",
        "        raise ValueError(\"La matriz es singular y no tiene inversa.\")\n",
        "\n",
        "    # Calcular la matriz de cofactores\n",
        "    Cofac = Cofactores(Mat)\n",
        "\n",
        "    # Transponer la matriz de cofactores para obtener la matriz adjunta\n",
        "    Cofac = Transpuesta(Cofac)\n",
        "\n",
        "    # Calcular la inversa multiplicando la adjunta por 1/determinante\n",
        "    Inversa = (1 / deter) * Cofac\n",
        "\n",
        "    return Inversa\n",
        "\n",
        "\"Resuelve un sistema de ecuaciones lineales utilizando la matriz inversa.\"\n",
        "A=np.array([[9,1,10],[6,4,10],[6,5,4]])\n",
        "b=np.array([1,8,3])\n",
        "\n",
        "def SolveInv(Mat, vec):\n",
        "   # Calcular la inversa de la matriz\n",
        "    InvMat = Inv(Mat)\n",
        "\n",
        "    # Multiplicar la inversa por el vector de términos independientes\n",
        "    Solucion = InvMat @ vec\n",
        "\n",
        "    return Solucion\n",
        "\n",
        "\n",
        "Sol=SolveInv(A,b)\n",
        "print(Sol)\n",
        "Sol_python=LA.solve(A,b)\n",
        "print(Sol_python)"
      ],
      "metadata": {
        "colab": {
          "base_uri": "https://localhost:8080/"
        },
        "id": "dgobTQS5r_eT",
        "outputId": "ab6de272-86d3-47d0-d574-01b5b71cffc7"
      },
      "execution_count": null,
      "outputs": [
        {
          "output_type": "stream",
          "name": "stdout",
          "text": [
            "[-1.16190476  1.17142857  1.02857143]\n",
            "[-1.16190476  1.17142857  1.02857143]\n"
          ]
        }
      ]
    },
    {
      "cell_type": "code",
      "source": [
        "import numpy as np\n",
        "from numpy.linalg import det\n",
        "\n",
        "\n",
        "def metodocrammer(A, b):\n",
        "    \"\"\"\n",
        "    Resuelve un sistema de ecuaciones lineales Ax = b utilizando la regla de Cramer.\n",
        "\n",
        "    Parámetros:\n",
        "    A (numpy.ndarray): Matriz de coeficientes del sistema.\n",
        "    b (numpy.ndarray): Vector de términos independientes.\n",
        "\n",
        "    Retorna:\n",
        "    numpy.ndarray | None: Solución del sistema si tiene una única solución, de lo contrario, None.\n",
        "    \"\"\"\n",
        "    A = np.array(A, dtype=float)\n",
        "    b = np.array(b, dtype=float)\n",
        "    n = A.shape[1]\n",
        "\n",
        "    dA = det(A)  # Calculamos el determinante de A\n",
        "    if dA == 0:\n",
        "        print(\"El sistema no tiene solución única.\")\n",
        "        return None\n",
        "\n",
        "    soluciones = np.zeros(n)\n",
        "    for i in range(n):\n",
        "        Ai = A.copy()\n",
        "        Ai[:, i] = b  # Reemplazamos la columna i con el vector b\n",
        "        soluciones[i] = det(Ai) / dA  # Calculamos la solución usando determinantes\n",
        "\n",
        "    return soluciones\n",
        "\n",
        "#  matriz A y un vector b fijos\n",
        "A=np.array([[9,1,10],[6,4,10],[6,5,4]])\n",
        "b=np.array([1,8,3])\n",
        "# Imprimimos la matriz y el vector generados\n",
        "print(\"Matriz A:\")\n",
        "print(A)\n",
        "\n",
        "print(\"\\nVector b:\")\n",
        "print(b)\n",
        "\n",
        "# Resolución del sistema de ecuaciones\n",
        "solucioncrammerfijo = metodocrammer(A, b)\n",
        "\n",
        "# condicionamos si hay solucion o no para que se muestre su respectivo resultado\n",
        "if solucioncrammerfijo is not None:\n",
        "  print(\"\\nSolución del sistema:\")\n",
        "  print(solucioncrammerfijo)\n"
      ],
      "metadata": {
        "colab": {
          "base_uri": "https://localhost:8080/"
        },
        "id": "4hzliJiL-B-1",
        "outputId": "5070cfbd-fe81-409b-8abc-338e66bae5dc"
      },
      "execution_count": null,
      "outputs": [
        {
          "output_type": "stream",
          "name": "stdout",
          "text": [
            "Matriz A:\n",
            "[[ 9  1 10]\n",
            " [ 6  4 10]\n",
            " [ 6  5  4]]\n",
            "\n",
            "Vector b:\n",
            "[1 8 3]\n",
            "\n",
            "Solución del sistema:\n",
            "[-1.16190476  1.17142857  1.02857143]\n"
          ]
        }
      ]
    },
    {
      "cell_type": "code",
      "source": [
        "print(\"Comparación de resultados \")\n",
        "\n",
        "print(\"\\nSolución del sistema matrix y vector fijo:\")\n",
        "print(solucioncrammerfijo)\n",
        "\n",
        "\n",
        "print(\"\\nSolución del sistema codigo hecho en clase :\")\n",
        "Sol=SolveInv(A,b)\n",
        "print(Sol)\n",
        "\n",
        "print(\"\\nSolución del sistema A y B aleatorios:\")\n",
        "solucionaAyBaleatorio = metodocrammer(A, b)\n",
        "print(solucionaAyBaleatorio)"
      ],
      "metadata": {
        "colab": {
          "base_uri": "https://localhost:8080/"
        },
        "id": "lGxqxdrB-kAm",
        "outputId": "fe6643b5-4ec3-47ea-9904-7277fa3df11c"
      },
      "execution_count": null,
      "outputs": [
        {
          "output_type": "stream",
          "name": "stdout",
          "text": [
            "Comparación de resultados \n",
            "\n",
            "Solución del sistema matrix y vector fijo:\n",
            "[-1.16190476  1.17142857  1.02857143]\n",
            "\n",
            "Solución del sistema codigo hecho en clase :\n",
            "[-1.16190476  1.17142857  1.02857143]\n",
            "\n",
            "Solución del sistema A y B aleatorios:\n",
            "[-1.16190476  1.17142857  1.02857143]\n"
          ]
        }
      ]
    }
  ]
}